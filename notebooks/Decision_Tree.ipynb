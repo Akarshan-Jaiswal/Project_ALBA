{
  "nbformat": 4,
  "nbformat_minor": 0,
  "metadata": {
    "colab": {
      "provenance": []
    },
    "kernelspec": {
      "name": "python3",
      "display_name": "Python 3"
    },
    "language_info": {
      "name": "python"
    }
  },
  "cells": [
    {
      "cell_type": "code",
      "execution_count": null,
      "metadata": {
        "colab": {
          "base_uri": "https://localhost:8080/"
        },
        "id": "6PPgzj88KFfw",
        "outputId": "f929d36f-7152-4fa9-824d-78f5d9b0f1dd"
      },
      "outputs": [
        {
          "output_type": "stream",
          "name": "stdout",
          "text": [
            "Requirement already satisfied: scikit-learn in /usr/local/lib/python3.10/dist-packages (1.2.2)\n",
            "Requirement already satisfied: numpy>=1.17.3 in /usr/local/lib/python3.10/dist-packages (from scikit-learn) (1.23.5)\n",
            "Requirement already satisfied: scipy>=1.3.2 in /usr/local/lib/python3.10/dist-packages (from scikit-learn) (1.11.3)\n",
            "Requirement already satisfied: joblib>=1.1.1 in /usr/local/lib/python3.10/dist-packages (from scikit-learn) (1.3.2)\n",
            "Requirement already satisfied: threadpoolctl>=2.0.0 in /usr/local/lib/python3.10/dist-packages (from scikit-learn) (3.2.0)\n"
          ]
        }
      ],
      "source": [
        "# Installing Libraries\n",
        "\n",
        "!pip install scikit-learn"
      ]
    },
    {
      "cell_type": "code",
      "source": [
        "# Imports\n",
        "import numpy as np\n",
        "import pandas as pd\n",
        "\n",
        "import matplotlib.pyplot as plt\n",
        "\n",
        "from sklearn.model_selection import train_test_split\n",
        "from sklearn.metrics import accuracy_score\n",
        "from sklearn.tree import DecisionTreeClassifier, plot_tree"
      ],
      "metadata": {
        "id": "tbNy79aEXCqf"
      },
      "execution_count": null,
      "outputs": []
    },
    {
      "cell_type": "code",
      "source": [
        "# Load the dataset from a CSV file\n",
        "data = pd.read_csv('/content/drive/MyDrive/Data Mining and ML/combined_dataset.csv')\n",
        "\n",
        "data=data[data['Income_rate'].notna()]\n",
        "\n",
        "# Define economic well-being based on thresholds\n",
        "threshold_income = 0.10\n",
        "threshold_employment = 0.10\n",
        "\n",
        "def categorize_economic_wellbeing(row):\n",
        "    if row['Income_rate'] > threshold_income and row['Employment_rate'] > threshold_employment:\n",
        "        return \"High\"\n",
        "    elif row['Income_rate'] > threshold_income or row['Employment_rate'] > threshold_employment:\n",
        "        return \"Medium\"\n",
        "    else:\n",
        "        return \"Low\"\n",
        "\n",
        "# Add the \"Economic_Wellbeing\" column based on the criteria\n",
        "data['Economic_Wellbeing'] = data.apply(categorize_economic_wellbeing, axis=1)"
      ],
      "metadata": {
        "id": "DlNFO4R2hci8"
      },
      "execution_count": null,
      "outputs": []
    },
    {
      "cell_type": "code",
      "source": [
        "prices = data['Economic_Wellbeing']\n",
        "\n",
        "features = data[['DEPRESS']]\n",
        "\n",
        "X_train, X_test, y_train, y_test = train_test_split(features, prices, test_size=0.3, random_state=42)\n",
        "\n",
        "model = DecisionTreeClassifier()\n",
        "model.fit(X_train, y_train)\n",
        "\n",
        "predictions = model.predict(X_test)\n",
        "score = accuracy_score(y_test, predictions)\n",
        "\n",
        "print(f\"Accuracy: {score * 100:.2f}%\")"
      ],
      "metadata": {
        "id": "FbYXd-doiaWJ"
      },
      "execution_count": null,
      "outputs": []
    }
  ]
}