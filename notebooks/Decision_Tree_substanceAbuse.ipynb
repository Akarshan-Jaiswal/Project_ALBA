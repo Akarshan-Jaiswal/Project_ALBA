{
 "cells": [
  {
   "cell_type": "code",
   "execution_count": 9,
   "metadata": {},
   "outputs": [
    {
     "name": "stdout",
     "output_type": "stream",
     "text": [
      "Requirement already satisfied: scikit-learn in c:\\users\\lahja\\anaconda3\\lib\\site-packages (1.3.0)\n",
      "Requirement already satisfied: numpy>=1.17.3 in c:\\users\\lahja\\anaconda3\\lib\\site-packages (from scikit-learn) (1.24.3)\n",
      "Requirement already satisfied: scipy>=1.5.0 in c:\\users\\lahja\\anaconda3\\lib\\site-packages (from scikit-learn) (1.11.1)\n",
      "Requirement already satisfied: joblib>=1.1.1 in c:\\users\\lahja\\anaconda3\\lib\\site-packages (from scikit-learn) (1.2.0)\n",
      "Requirement already satisfied: threadpoolctl>=2.0.0 in c:\\users\\lahja\\anaconda3\\lib\\site-packages (from scikit-learn) (2.2.0)\n",
      "Collecting graphviz\n",
      "  Downloading graphviz-0.20.1-py3-none-any.whl (47 kB)\n",
      "     ---------------------------------------- 0.0/47.0 kB ? eta -:--:--\n",
      "     -------- ------------------------------- 10.2/47.0 kB ? eta -:--:--\n",
      "     ------------------------ ------------- 30.7/47.0 kB 330.3 kB/s eta 0:00:01\n",
      "     -------------------------------------- 47.0/47.0 kB 337.6 kB/s eta 0:00:00\n",
      "Installing collected packages: graphviz\n",
      "Successfully installed graphviz-0.20.1\n",
      "Collecting dtreeviz\n",
      "  Obtaining dependency information for dtreeviz from https://files.pythonhosted.org/packages/b3/e8/44eb59345d8ba9d2f6610df6441d63082f46021c1685de24716c22f55383/dtreeviz-2.2.2-py3-none-any.whl.metadata\n",
      "  Downloading dtreeviz-2.2.2-py3-none-any.whl.metadata (2.4 kB)\n",
      "Requirement already satisfied: graphviz>=0.9 in c:\\users\\lahja\\anaconda3\\lib\\site-packages (from dtreeviz) (0.20.1)\n",
      "Requirement already satisfied: pandas in c:\\users\\lahja\\anaconda3\\lib\\site-packages (from dtreeviz) (2.0.3)\n",
      "Requirement already satisfied: numpy in c:\\users\\lahja\\anaconda3\\lib\\site-packages (from dtreeviz) (1.24.3)\n",
      "Requirement already satisfied: scikit-learn in c:\\users\\lahja\\anaconda3\\lib\\site-packages (from dtreeviz) (1.3.0)\n",
      "Requirement already satisfied: matplotlib in c:\\users\\lahja\\anaconda3\\lib\\site-packages (from dtreeviz) (3.7.2)\n",
      "Collecting colour (from dtreeviz)\n",
      "  Downloading colour-0.1.5-py2.py3-none-any.whl (23 kB)\n",
      "Requirement already satisfied: pytest in c:\\users\\lahja\\anaconda3\\lib\\site-packages (from dtreeviz) (7.4.0)\n",
      "Requirement already satisfied: contourpy>=1.0.1 in c:\\users\\lahja\\anaconda3\\lib\\site-packages (from matplotlib->dtreeviz) (1.0.5)\n",
      "Requirement already satisfied: cycler>=0.10 in c:\\users\\lahja\\anaconda3\\lib\\site-packages (from matplotlib->dtreeviz) (0.11.0)\n",
      "Requirement already satisfied: fonttools>=4.22.0 in c:\\users\\lahja\\anaconda3\\lib\\site-packages (from matplotlib->dtreeviz) (4.25.0)\n",
      "Requirement already satisfied: kiwisolver>=1.0.1 in c:\\users\\lahja\\anaconda3\\lib\\site-packages (from matplotlib->dtreeviz) (1.4.4)\n",
      "Requirement already satisfied: packaging>=20.0 in c:\\users\\lahja\\anaconda3\\lib\\site-packages (from matplotlib->dtreeviz) (23.1)\n",
      "Requirement already satisfied: pillow>=6.2.0 in c:\\users\\lahja\\anaconda3\\lib\\site-packages (from matplotlib->dtreeviz) (9.4.0)\n",
      "Requirement already satisfied: pyparsing<3.1,>=2.3.1 in c:\\users\\lahja\\anaconda3\\lib\\site-packages (from matplotlib->dtreeviz) (3.0.9)\n",
      "Requirement already satisfied: python-dateutil>=2.7 in c:\\users\\lahja\\anaconda3\\lib\\site-packages (from matplotlib->dtreeviz) (2.8.2)\n",
      "Requirement already satisfied: pytz>=2020.1 in c:\\users\\lahja\\anaconda3\\lib\\site-packages (from pandas->dtreeviz) (2023.3.post1)\n",
      "Requirement already satisfied: tzdata>=2022.1 in c:\\users\\lahja\\anaconda3\\lib\\site-packages (from pandas->dtreeviz) (2023.3)\n",
      "Requirement already satisfied: iniconfig in c:\\users\\lahja\\anaconda3\\lib\\site-packages (from pytest->dtreeviz) (1.1.1)\n",
      "Requirement already satisfied: pluggy<2.0,>=0.12 in c:\\users\\lahja\\anaconda3\\lib\\site-packages (from pytest->dtreeviz) (1.0.0)\n",
      "Requirement already satisfied: colorama in c:\\users\\lahja\\anaconda3\\lib\\site-packages (from pytest->dtreeviz) (0.4.6)\n",
      "Requirement already satisfied: scipy>=1.5.0 in c:\\users\\lahja\\anaconda3\\lib\\site-packages (from scikit-learn->dtreeviz) (1.11.1)\n",
      "Requirement already satisfied: joblib>=1.1.1 in c:\\users\\lahja\\anaconda3\\lib\\site-packages (from scikit-learn->dtreeviz) (1.2.0)\n",
      "Requirement already satisfied: threadpoolctl>=2.0.0 in c:\\users\\lahja\\anaconda3\\lib\\site-packages (from scikit-learn->dtreeviz) (2.2.0)\n",
      "Requirement already satisfied: six>=1.5 in c:\\users\\lahja\\anaconda3\\lib\\site-packages (from python-dateutil>=2.7->matplotlib->dtreeviz) (1.16.0)\n",
      "Downloading dtreeviz-2.2.2-py3-none-any.whl (91 kB)\n",
      "   ---------------------------------------- 0.0/91.8 kB ? eta -:--:--\n",
      "   ----------------- ---------------------- 41.0/91.8 kB 2.0 MB/s eta 0:00:01\n",
      "   ---------------------------------------- 91.8/91.8 kB 1.7 MB/s eta 0:00:00\n",
      "Installing collected packages: colour, dtreeviz\n",
      "Successfully installed colour-0.1.5 dtreeviz-2.2.2\n"
     ]
    }
   ],
   "source": [
    "# Setting up packages\n",
    "\n",
    "!pip install scikit-learn\n",
    "!pip install graphviz\n",
    "!pip install -U dtreeviz"
   ]
  },
  {
   "cell_type": "code",
   "execution_count": 10,
   "metadata": {},
   "outputs": [
    {
     "ename": "ModuleNotFoundError",
     "evalue": "No module named 'pydotplus'",
     "output_type": "error",
     "traceback": [
      "\u001b[1;31m---------------------------------------------------------------------------\u001b[0m",
      "\u001b[1;31mModuleNotFoundError\u001b[0m                       Traceback (most recent call last)",
      "\u001b[1;32mc:\\Users\\Lahja\\Documents\\GitHub\\group-coursework-valhalla\\notebooks\\Decision_Tree_substanceAbuse.ipynb Cell 2\u001b[0m line \u001b[0;36m3\n\u001b[0;32m      <a href='vscode-notebook-cell:/c%3A/Users/Lahja/Documents/GitHub/group-coursework-valhalla/notebooks/Decision_Tree_substanceAbuse.ipynb#X12sZmlsZQ%3D%3D?line=0'>1</a>\u001b[0m \u001b[39mimport\u001b[39;00m \u001b[39mdtreeviz\u001b[39;00m\n\u001b[0;32m      <a href='vscode-notebook-cell:/c%3A/Users/Lahja/Documents/GitHub/group-coursework-valhalla/notebooks/Decision_Tree_substanceAbuse.ipynb#X12sZmlsZQ%3D%3D?line=1'>2</a>\u001b[0m \u001b[39mimport\u001b[39;00m \u001b[39mgraphviz\u001b[39;00m\n\u001b[1;32m----> <a href='vscode-notebook-cell:/c%3A/Users/Lahja/Documents/GitHub/group-coursework-valhalla/notebooks/Decision_Tree_substanceAbuse.ipynb#X12sZmlsZQ%3D%3D?line=2'>3</a>\u001b[0m \u001b[39mimport\u001b[39;00m \u001b[39mpydotplus\u001b[39;00m\n\u001b[0;32m      <a href='vscode-notebook-cell:/c%3A/Users/Lahja/Documents/GitHub/group-coursework-valhalla/notebooks/Decision_Tree_substanceAbuse.ipynb#X12sZmlsZQ%3D%3D?line=4'>5</a>\u001b[0m \u001b[39mimport\u001b[39;00m \u001b[39mnumpy\u001b[39;00m \u001b[39mas\u001b[39;00m \u001b[39mnp\u001b[39;00m\n\u001b[0;32m      <a href='vscode-notebook-cell:/c%3A/Users/Lahja/Documents/GitHub/group-coursework-valhalla/notebooks/Decision_Tree_substanceAbuse.ipynb#X12sZmlsZQ%3D%3D?line=5'>6</a>\u001b[0m \u001b[39mimport\u001b[39;00m \u001b[39mpandas\u001b[39;00m \u001b[39mas\u001b[39;00m \u001b[39mpd\u001b[39;00m\n",
      "\u001b[1;31mModuleNotFoundError\u001b[0m: No module named 'pydotplus'"
     ]
    }
   ],
   "source": [
    "import dtreeviz\n",
    "import graphviz\n",
    "import pydotplus\n",
    "\n",
    "import numpy as np\n",
    "import pandas as pd\n",
    "\n",
    "import matplotlib.pyplot as plt\n",
    "\n",
    "from IPython.display import Image\n",
    "from sklearn.tree import export_graphviz\n",
    "from sklearn.model_selection import train_test_split\n",
    "from sklearn.metrics import accuracy_score, classification_report, confusion_matrix\n",
    "from sklearn.tree import DecisionTreeClassifier, plot_tree"
   ]
  },
  {
   "cell_type": "code",
   "execution_count": null,
   "metadata": {},
   "outputs": [],
   "source": [
    "# csv file\n",
    "data = pd.read_csv('./../data/combined_dataset.csv')\n",
    "\n",
    "data=data[data['Income_rate'].notna()]\n",
    "\n",
    "# Define substance_abuse on thresholds\n",
    "AlcoholAbuse_threshold = 300\n",
    "DrugAbuse_threshold = 500\n",
    "\n",
    "def categorize_economic_wellbeing(row):\n",
    "    if row['ALCOHOL'] > threshold_income and row['DRUG'] > threshold_employment:\n",
    "        return \"Hgh\"\n",
    "    elif row['ALCOHOL'] > threshold_income or row['DRUG'] > threshold_employment:\n",
    "        return \"Moderate\"\n",
    "    else:\n",
    "        return \"Low\"\n",
    "\n",
    "# Add the \"Economic_Wellbeing\" column based on the criteria\n",
    "data['Economic_Wellbeing'] = data.apply(categorize_substance_abuse, axis=1)\n",
    "\n",
    "# Define class names based on the categories in 'Economic_Wellbeing'\n",
    "class_names = ['Low', 'Medium', 'High']"
   ]
  },
  {
   "cell_type": "code",
   "execution_count": null,
   "metadata": {},
   "outputs": [],
   "source": []
  },
  {
   "cell_type": "code",
   "execution_count": null,
   "metadata": {},
   "outputs": [],
   "source": []
  },
  {
   "cell_type": "code",
   "execution_count": null,
   "metadata": {},
   "outputs": [],
   "source": []
  },
  {
   "cell_type": "code",
   "execution_count": null,
   "metadata": {},
   "outputs": [],
   "source": []
  },
  {
   "cell_type": "code",
   "execution_count": null,
   "metadata": {},
   "outputs": [],
   "source": []
  },
  {
   "cell_type": "code",
   "execution_count": null,
   "metadata": {},
   "outputs": [],
   "source": []
  },
  {
   "cell_type": "code",
   "execution_count": null,
   "metadata": {},
   "outputs": [],
   "source": []
  }
 ],
 "metadata": {
  "kernelspec": {
   "display_name": "base",
   "language": "python",
   "name": "python3"
  },
  "language_info": {
   "codemirror_mode": {
    "name": "ipython",
    "version": 3
   },
   "file_extension": ".py",
   "mimetype": "text/x-python",
   "name": "python",
   "nbconvert_exporter": "python",
   "pygments_lexer": "ipython3",
   "version": "3.11.5"
  }
 },
 "nbformat": 4,
 "nbformat_minor": 2
}
