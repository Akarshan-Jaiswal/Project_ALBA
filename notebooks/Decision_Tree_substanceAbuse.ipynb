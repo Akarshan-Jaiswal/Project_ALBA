{
 "cells": [
  {
   "cell_type": "code",
   "execution_count": 59,
   "metadata": {},
   "outputs": [
    {
     "name": "stdout",
     "output_type": "stream",
     "text": [
      "Requirement already satisfied: scikit-learn in c:\\users\\lahja\\anaconda3\\lib\\site-packages (1.3.0)\n",
      "Requirement already satisfied: numpy>=1.17.3 in c:\\users\\lahja\\anaconda3\\lib\\site-packages (from scikit-learn) (1.24.3)\n",
      "Requirement already satisfied: scipy>=1.5.0 in c:\\users\\lahja\\anaconda3\\lib\\site-packages (from scikit-learn) (1.11.1)\n",
      "Requirement already satisfied: joblib>=1.1.1 in c:\\users\\lahja\\anaconda3\\lib\\site-packages (from scikit-learn) (1.2.0)\n",
      "Requirement already satisfied: threadpoolctl>=2.0.0 in c:\\users\\lahja\\anaconda3\\lib\\site-packages (from scikit-learn) (2.2.0)\n",
      "Requirement already satisfied: graphviz in c:\\users\\lahja\\anaconda3\\lib\\site-packages (0.20.1)\n",
      "Requirement already satisfied: dtreeviz in c:\\users\\lahja\\anaconda3\\lib\\site-packages (2.2.2)\n",
      "Requirement already satisfied: graphviz>=0.9 in c:\\users\\lahja\\anaconda3\\lib\\site-packages (from dtreeviz) (0.20.1)\n",
      "Requirement already satisfied: pandas in c:\\users\\lahja\\anaconda3\\lib\\site-packages (from dtreeviz) (2.0.3)\n",
      "Requirement already satisfied: numpy in c:\\users\\lahja\\anaconda3\\lib\\site-packages (from dtreeviz) (1.24.3)\n",
      "Requirement already satisfied: scikit-learn in c:\\users\\lahja\\anaconda3\\lib\\site-packages (from dtreeviz) (1.3.0)\n",
      "Requirement already satisfied: matplotlib in c:\\users\\lahja\\anaconda3\\lib\\site-packages (from dtreeviz) (3.7.2)\n",
      "Requirement already satisfied: colour in c:\\users\\lahja\\anaconda3\\lib\\site-packages (from dtreeviz) (0.1.5)\n",
      "Requirement already satisfied: pytest in c:\\users\\lahja\\anaconda3\\lib\\site-packages (from dtreeviz) (7.4.0)\n",
      "Requirement already satisfied: contourpy>=1.0.1 in c:\\users\\lahja\\anaconda3\\lib\\site-packages (from matplotlib->dtreeviz) (1.0.5)\n",
      "Requirement already satisfied: cycler>=0.10 in c:\\users\\lahja\\anaconda3\\lib\\site-packages (from matplotlib->dtreeviz) (0.11.0)\n",
      "Requirement already satisfied: fonttools>=4.22.0 in c:\\users\\lahja\\anaconda3\\lib\\site-packages (from matplotlib->dtreeviz) (4.25.0)\n",
      "Requirement already satisfied: kiwisolver>=1.0.1 in c:\\users\\lahja\\anaconda3\\lib\\site-packages (from matplotlib->dtreeviz) (1.4.4)\n",
      "Requirement already satisfied: packaging>=20.0 in c:\\users\\lahja\\anaconda3\\lib\\site-packages (from matplotlib->dtreeviz) (23.1)\n",
      "Requirement already satisfied: pillow>=6.2.0 in c:\\users\\lahja\\anaconda3\\lib\\site-packages (from matplotlib->dtreeviz) (9.4.0)\n",
      "Requirement already satisfied: pyparsing<3.1,>=2.3.1 in c:\\users\\lahja\\anaconda3\\lib\\site-packages (from matplotlib->dtreeviz) (3.0.9)\n",
      "Requirement already satisfied: python-dateutil>=2.7 in c:\\users\\lahja\\anaconda3\\lib\\site-packages (from matplotlib->dtreeviz) (2.8.2)\n",
      "Requirement already satisfied: pytz>=2020.1 in c:\\users\\lahja\\anaconda3\\lib\\site-packages (from pandas->dtreeviz) (2023.3.post1)\n",
      "Requirement already satisfied: tzdata>=2022.1 in c:\\users\\lahja\\anaconda3\\lib\\site-packages (from pandas->dtreeviz) (2023.3)\n",
      "Requirement already satisfied: iniconfig in c:\\users\\lahja\\anaconda3\\lib\\site-packages (from pytest->dtreeviz) (1.1.1)\n",
      "Requirement already satisfied: pluggy<2.0,>=0.12 in c:\\users\\lahja\\anaconda3\\lib\\site-packages (from pytest->dtreeviz) (1.0.0)\n",
      "Requirement already satisfied: colorama in c:\\users\\lahja\\anaconda3\\lib\\site-packages (from pytest->dtreeviz) (0.4.6)\n",
      "Requirement already satisfied: scipy>=1.5.0 in c:\\users\\lahja\\anaconda3\\lib\\site-packages (from scikit-learn->dtreeviz) (1.11.1)\n",
      "Requirement already satisfied: joblib>=1.1.1 in c:\\users\\lahja\\anaconda3\\lib\\site-packages (from scikit-learn->dtreeviz) (1.2.0)\n",
      "Requirement already satisfied: threadpoolctl>=2.0.0 in c:\\users\\lahja\\anaconda3\\lib\\site-packages (from scikit-learn->dtreeviz) (2.2.0)\n",
      "Requirement already satisfied: six>=1.5 in c:\\users\\lahja\\anaconda3\\lib\\site-packages (from python-dateutil>=2.7->matplotlib->dtreeviz) (1.16.0)\n",
      "Requirement already satisfied: pydotplus in c:\\users\\lahja\\anaconda3\\lib\\site-packages (2.0.2)\n",
      "Requirement already satisfied: pyparsing>=2.0.1 in c:\\users\\lahja\\anaconda3\\lib\\site-packages (from pydotplus) (3.0.9)\n"
     ]
    }
   ],
   "source": [
    "# Setting up packages\n",
    "\n",
    "!pip install scikit-learn\n",
    "!pip install graphviz\n",
    "!pip install -U dtreeviz\n",
    "!pip install pydotplus\n"
   ]
  },
  {
   "cell_type": "code",
   "execution_count": 60,
   "metadata": {},
   "outputs": [],
   "source": [
    "import dtreeviz\n",
    "import graphviz\n",
    "import pydotplus\n",
    "\n",
    "import numpy as np\n",
    "import pandas as pd\n",
    "\n",
    "import matplotlib.pyplot as plt\n",
    "\n",
    "from IPython.display import Image\n",
    "from sklearn.tree import plot_tree\n",
    "from sklearn.tree import export_graphviz\n",
    "from sklearn.preprocessing import LabelEncoder\n",
    "from sklearn.model_selection import train_test_split\n",
    "from sklearn.metrics import accuracy_score, classification_report, confusion_matrix\n",
    "from sklearn.tree import DecisionTreeClassifier, plot_tree"
   ]
  },
  {
   "cell_type": "code",
   "execution_count": 61,
   "metadata": {},
   "outputs": [],
   "source": [
    "# csv file\n",
    "data = pd.read_csv('./../data/combined_dataset.csv')\n",
    "\n",
    "data=data[data['ALCOHOL'].notna()]\n",
    "\n",
    "# Define substance_abuse on thresholds\n",
    "AlcoholAbuse_threshold = 300\n",
    "DrugAbuse_threshold = 500\n",
    "\n",
    "def categorize_substance_abuse(row):\n",
    "    if row['ALCOHOL'] > AlcoholAbuse_threshold and row['DRUG'] > DrugAbuse_threshold:\n",
    "        return \"High\"\n",
    "    elif row['ALCOHOL'] > AlcoholAbuse_threshold or row['DRUG'] > DrugAbuse_threshold:\n",
    "        return \"Moderate\"\n",
    "    else:\n",
    "        return \"Low\"\n",
    "\n",
    "# Add new column \"Substance Abuse\" based on the criteria\n",
    "data['Substance_Abuse'] = data.apply(categorize_substance_abuse, axis=1)\n",
    "\n",
    "# Define categories in 'Substance Abuse'\n",
    "category_names = ['Low', 'Moderate', 'High']"
   ]
  },
  {
   "cell_type": "code",
   "execution_count": 62,
   "metadata": {},
   "outputs": [],
   "source": [
    "#Defining target\n",
    "target = data['Substance_Abuse']\n",
    "\n",
    "features = data[['DEPRESS']]\n",
    "\n",
    "\n"
   ]
  },
  {
   "cell_type": "code",
   "execution_count": 63,
   "metadata": {},
   "outputs": [],
   "source": [
    "X_train, X_test, y_train, y_test = train_test_split(features, target, test_size=0.3, random_state=42)\n"
   ]
  },
  {
   "cell_type": "code",
   "execution_count": 66,
   "metadata": {},
   "outputs": [],
   "source": [
    "#Encoding data to handle categoricals\n",
    "label_encoder = LabelEncoder()\n",
    "for col in X_train.columns:\n",
    "    if X_train[col].dtype == 'object':\n",
    "        X_train[col] = label_encoder.fit_transform(X_train[col])\n"
   ]
  },
  {
   "cell_type": "code",
   "execution_count": 67,
   "metadata": {},
   "outputs": [
    {
     "data": {
      "text/html": [
       "<style>#sk-container-id-1 {color: black;}#sk-container-id-1 pre{padding: 0;}#sk-container-id-1 div.sk-toggleable {background-color: white;}#sk-container-id-1 label.sk-toggleable__label {cursor: pointer;display: block;width: 100%;margin-bottom: 0;padding: 0.3em;box-sizing: border-box;text-align: center;}#sk-container-id-1 label.sk-toggleable__label-arrow:before {content: \"▸\";float: left;margin-right: 0.25em;color: #696969;}#sk-container-id-1 label.sk-toggleable__label-arrow:hover:before {color: black;}#sk-container-id-1 div.sk-estimator:hover label.sk-toggleable__label-arrow:before {color: black;}#sk-container-id-1 div.sk-toggleable__content {max-height: 0;max-width: 0;overflow: hidden;text-align: left;background-color: #f0f8ff;}#sk-container-id-1 div.sk-toggleable__content pre {margin: 0.2em;color: black;border-radius: 0.25em;background-color: #f0f8ff;}#sk-container-id-1 input.sk-toggleable__control:checked~div.sk-toggleable__content {max-height: 200px;max-width: 100%;overflow: auto;}#sk-container-id-1 input.sk-toggleable__control:checked~label.sk-toggleable__label-arrow:before {content: \"▾\";}#sk-container-id-1 div.sk-estimator input.sk-toggleable__control:checked~label.sk-toggleable__label {background-color: #d4ebff;}#sk-container-id-1 div.sk-label input.sk-toggleable__control:checked~label.sk-toggleable__label {background-color: #d4ebff;}#sk-container-id-1 input.sk-hidden--visually {border: 0;clip: rect(1px 1px 1px 1px);clip: rect(1px, 1px, 1px, 1px);height: 1px;margin: -1px;overflow: hidden;padding: 0;position: absolute;width: 1px;}#sk-container-id-1 div.sk-estimator {font-family: monospace;background-color: #f0f8ff;border: 1px dotted black;border-radius: 0.25em;box-sizing: border-box;margin-bottom: 0.5em;}#sk-container-id-1 div.sk-estimator:hover {background-color: #d4ebff;}#sk-container-id-1 div.sk-parallel-item::after {content: \"\";width: 100%;border-bottom: 1px solid gray;flex-grow: 1;}#sk-container-id-1 div.sk-label:hover label.sk-toggleable__label {background-color: #d4ebff;}#sk-container-id-1 div.sk-serial::before {content: \"\";position: absolute;border-left: 1px solid gray;box-sizing: border-box;top: 0;bottom: 0;left: 50%;z-index: 0;}#sk-container-id-1 div.sk-serial {display: flex;flex-direction: column;align-items: center;background-color: white;padding-right: 0.2em;padding-left: 0.2em;position: relative;}#sk-container-id-1 div.sk-item {position: relative;z-index: 1;}#sk-container-id-1 div.sk-parallel {display: flex;align-items: stretch;justify-content: center;background-color: white;position: relative;}#sk-container-id-1 div.sk-item::before, #sk-container-id-1 div.sk-parallel-item::before {content: \"\";position: absolute;border-left: 1px solid gray;box-sizing: border-box;top: 0;bottom: 0;left: 50%;z-index: -1;}#sk-container-id-1 div.sk-parallel-item {display: flex;flex-direction: column;z-index: 1;position: relative;background-color: white;}#sk-container-id-1 div.sk-parallel-item:first-child::after {align-self: flex-end;width: 50%;}#sk-container-id-1 div.sk-parallel-item:last-child::after {align-self: flex-start;width: 50%;}#sk-container-id-1 div.sk-parallel-item:only-child::after {width: 0;}#sk-container-id-1 div.sk-dashed-wrapped {border: 1px dashed gray;margin: 0 0.4em 0.5em 0.4em;box-sizing: border-box;padding-bottom: 0.4em;background-color: white;}#sk-container-id-1 div.sk-label label {font-family: monospace;font-weight: bold;display: inline-block;line-height: 1.2em;}#sk-container-id-1 div.sk-label-container {text-align: center;}#sk-container-id-1 div.sk-container {/* jupyter's `normalize.less` sets `[hidden] { display: none; }` but bootstrap.min.css set `[hidden] { display: none !important; }` so we also need the `!important` here to be able to override the default hidden behavior on the sphinx rendered scikit-learn.org. See: https://github.com/scikit-learn/scikit-learn/issues/21755 */display: inline-block !important;position: relative;}#sk-container-id-1 div.sk-text-repr-fallback {display: none;}</style><div id=\"sk-container-id-1\" class=\"sk-top-container\"><div class=\"sk-text-repr-fallback\"><pre>DecisionTreeClassifier()</pre><b>In a Jupyter environment, please rerun this cell to show the HTML representation or trust the notebook. <br />On GitHub, the HTML representation is unable to render, please try loading this page with nbviewer.org.</b></div><div class=\"sk-container\" hidden><div class=\"sk-item\"><div class=\"sk-estimator sk-toggleable\"><input class=\"sk-toggleable__control sk-hidden--visually\" id=\"sk-estimator-id-1\" type=\"checkbox\" checked><label for=\"sk-estimator-id-1\" class=\"sk-toggleable__label sk-toggleable__label-arrow\">DecisionTreeClassifier</label><div class=\"sk-toggleable__content\"><pre>DecisionTreeClassifier()</pre></div></div></div></div></div>"
      ],
      "text/plain": [
       "DecisionTreeClassifier()"
      ]
     },
     "execution_count": 67,
     "metadata": {},
     "output_type": "execute_result"
    }
   ],
   "source": [
    "\n",
    "#fitting data to model\n",
    "model = DecisionTreeClassifier()\n",
    "model.fit(X_train, y_train)\n"
   ]
  },
  {
   "cell_type": "code",
   "execution_count": 72,
   "metadata": {},
   "outputs": [],
   "source": [
    "#Encoding data to handle categoricals\n",
    "label_encoder = LabelEncoder()\n",
    "for col in X_test.columns:\n",
    "    if X_test[col].dtype == 'object':\n",
    "        X_test[col] = label_encoder.fit_transform(X_test[col])"
   ]
  },
  {
   "cell_type": "code",
   "execution_count": 73,
   "metadata": {},
   "outputs": [
    {
     "name": "stdout",
     "output_type": "stream",
     "text": [
      "Accuracy: 93.45%\n"
     ]
    }
   ],
   "source": [
    "predictions = model.predict(X_test)\n",
    "score = accuracy_score(y_test, predictions)\n",
    "\n",
    "print(f\"Accuracy: {score * 100:.2f}%\")\n"
   ]
  },
  {
   "cell_type": "code",
   "execution_count": 74,
   "metadata": {},
   "outputs": [
    {
     "name": "stdout",
     "output_type": "stream",
     "text": [
      "              precision    recall  f1-score   support\n",
      "\n",
      "        High       0.00      0.00      0.00        21\n",
      "         Low       0.94      0.99      0.97      2273\n",
      "    Moderate       0.00      0.00      0.00       119\n",
      "\n",
      "    accuracy                           0.93      2413\n",
      "   macro avg       0.31      0.33      0.32      2413\n",
      "weighted avg       0.89      0.93      0.91      2413\n",
      "\n",
      "Confusion Matrix:\n",
      "[[   0   21    0]\n",
      " [   2 2255   16]\n",
      " [   0  119    0]]\n"
     ]
    }
   ],
   "source": [
    "# Doing more evaluation metrics\n",
    "print(classification_report(y_test, predictions))\n",
    "print(\"Confusion Matrix:\")\n",
    "print(confusion_matrix(y_test, predictions))"
   ]
  }
 ],
 "metadata": {
  "kernelspec": {
   "display_name": "base",
   "language": "python",
   "name": "python3"
  },
  "language_info": {
   "codemirror_mode": {
    "name": "ipython",
    "version": 3
   },
   "file_extension": ".py",
   "mimetype": "text/x-python",
   "name": "python",
   "nbconvert_exporter": "python",
   "pygments_lexer": "ipython3",
   "version": "3.11.5"
  }
 },
 "nbformat": 4,
 "nbformat_minor": 2
}
