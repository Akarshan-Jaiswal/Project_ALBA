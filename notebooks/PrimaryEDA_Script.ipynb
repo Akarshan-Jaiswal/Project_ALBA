{
 "cells": [
  {
   "cell_type": "code",
   "execution_count": 11,
   "metadata": {},
   "outputs": [],
   "source": [
    "import pandas as pd\n",
    "import dtale"
   ]
  },
  {
   "cell_type": "code",
   "execution_count": null,
   "metadata": {},
   "outputs": [],
   "source": [
    "# pip install ydata-profiling\n",
    "# from ydata_profiling import ProfileReport\n",
    "\n",
    "# profile = ProfileReport(simd,title=\"Profiling Report\",interactions=None)\n",
    "# pip install --upgrade pip\n",
    "# profile.to_widgets()\n",
    "# pip install dataprep\n",
    "# pip install python-crfsuite"
   ]
  },
  {
   "cell_type": "code",
   "execution_count": 12,
   "metadata": {},
   "outputs": [],
   "source": [
    "simd = pd.read_csv('./../data/SIMD_2020_Data.csv')\n",
    "dtale_2020 = dtale.show(simd)\n",
    "dtale_2020.open_browser()"
   ]
  }
 ],
 "metadata": {
  "kernelspec": {
   "display_name": "Python 3",
   "language": "python",
   "name": "python3"
  },
  "language_info": {
   "codemirror_mode": {
    "name": "ipython",
    "version": 3
   },
   "file_extension": ".py",
   "mimetype": "text/x-python",
   "name": "python",
   "nbconvert_exporter": "python",
   "pygments_lexer": "ipython3",
   "version": "3.11.0"
  },
  "orig_nbformat": 4
 },
 "nbformat": 4,
 "nbformat_minor": 2
}
